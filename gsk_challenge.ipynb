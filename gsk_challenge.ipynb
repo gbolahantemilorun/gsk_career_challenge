{
 "cells": [
  {
   "cell_type": "markdown",
   "id": "9d757457",
   "metadata": {},
   "source": [
    "# GSK CODE CHALLENGE"
   ]
  },
  {
   "cell_type": "markdown",
   "id": "57956377",
   "metadata": {},
   "source": [
    "## Problem Statement\n",
    "A new cancer treatment for solid tumours (Miraculon-B) is in development at GSK, data has been collected in our recent clinical trial comparing Miraculon-B to the current standard of care (i.e., referred to as the ‘control’). The trial has completed, and we need your help to analyse the data and assess the effectiveness of Miraculon-B. To do this we need you to compare Miraculon-B to the standard of care, and explore how different patient sub-groups may benefit differently from treatment."
   ]
  },
  {
   "cell_type": "markdown",
   "id": "d95f07f7",
   "metadata": {},
   "source": [
    "## Importing Relevant Libraries"
   ]
  },
  {
   "cell_type": "code",
   "execution_count": 82,
   "id": "f233f94a",
   "metadata": {},
   "outputs": [],
   "source": [
    "import pandas as pd\n",
    "import numpy as np\n",
    "import seaborn as sns\n",
    "import matplotlib.pyplot as plt\n",
    "%matplotlib inline \n",
    "from sklearn.preprocessing import LabelEncoder\n",
    "from scipy.stats import chi2_contingency\n",
    "from sklearn.model_selection import train_test_split\n",
    "from sklearn.linear_model import LogisticRegression\n",
    "from sklearn.metrics import accuracy_score, precision_score, recall_score, f1_score, confusion_matrix\n",
    "from sklearn.preprocessing import StandardScaler\n",
    "from imblearn.over_sampling import SMOTE\n",
    "from sklearn.ensemble import ExtraTreesClassifier\n",
    "from sklearn.feature_selection import SelectFromModel\n",
    "from sklearn.ensemble import RandomForestClassifier"
   ]
  },
  {
   "cell_type": "markdown",
   "id": "bd196b9b",
   "metadata": {},
   "source": [
    "## Preprocessing the protein level dataset"
   ]
  },
  {
   "cell_type": "code",
   "execution_count": 2,
   "id": "d1673f1c",
   "metadata": {},
   "outputs": [],
   "source": [
    "# Reading the protein levels data\n",
    "protein_data = pd.read_csv(\"protein-levels.csv\")"
   ]
  },
  {
   "cell_type": "code",
   "execution_count": 3,
   "id": "211a7f1c",
   "metadata": {},
   "outputs": [
    {
     "data": {
      "text/plain": [
       "(768, 2)"
      ]
     },
     "execution_count": 3,
     "metadata": {},
     "output_type": "execute_result"
    }
   ],
   "source": [
    "# Checking the data dimension of the protein dataset\n",
    "protein_data.shape"
   ]
  },
  {
   "cell_type": "markdown",
   "id": "dd96caf7",
   "metadata": {},
   "source": [
    "- The protein dataset contains 769 rows and 8 columns"
   ]
  },
  {
   "cell_type": "code",
   "execution_count": 4,
   "id": "790b0a41",
   "metadata": {},
   "outputs": [
    {
     "data": {
      "text/html": [
       "<div>\n",
       "<style scoped>\n",
       "    .dataframe tbody tr th:only-of-type {\n",
       "        vertical-align: middle;\n",
       "    }\n",
       "\n",
       "    .dataframe tbody tr th {\n",
       "        vertical-align: top;\n",
       "    }\n",
       "\n",
       "    .dataframe thead th {\n",
       "        text-align: right;\n",
       "    }\n",
       "</style>\n",
       "<table border=\"1\" class=\"dataframe\">\n",
       "  <thead>\n",
       "    <tr style=\"text-align: right;\">\n",
       "      <th></th>\n",
       "      <th>participant_id</th>\n",
       "      <th>protein_concentration</th>\n",
       "    </tr>\n",
       "  </thead>\n",
       "  <tbody>\n",
       "    <tr>\n",
       "      <th>0</th>\n",
       "      <td>SUBJ_001</td>\n",
       "      <td>148.0</td>\n",
       "    </tr>\n",
       "    <tr>\n",
       "      <th>1</th>\n",
       "      <td>SUBJ_002</td>\n",
       "      <td>85.0</td>\n",
       "    </tr>\n",
       "    <tr>\n",
       "      <th>2</th>\n",
       "      <td>SUBJ_003</td>\n",
       "      <td>183.0</td>\n",
       "    </tr>\n",
       "    <tr>\n",
       "      <th>3</th>\n",
       "      <td>SUBJ_004</td>\n",
       "      <td>89.0</td>\n",
       "    </tr>\n",
       "    <tr>\n",
       "      <th>4</th>\n",
       "      <td>SUBJ_005</td>\n",
       "      <td>137.0</td>\n",
       "    </tr>\n",
       "  </tbody>\n",
       "</table>\n",
       "</div>"
      ],
      "text/plain": [
       "  participant_id  protein_concentration\n",
       "0       SUBJ_001                  148.0\n",
       "1       SUBJ_002                   85.0\n",
       "2       SUBJ_003                  183.0\n",
       "3       SUBJ_004                   89.0\n",
       "4       SUBJ_005                  137.0"
      ]
     },
     "execution_count": 4,
     "metadata": {},
     "output_type": "execute_result"
    }
   ],
   "source": [
    "# Displaying the first 5 rows of the protein level dataset\n",
    "protein_data.head()"
   ]
  },
  {
   "cell_type": "code",
   "execution_count": 5,
   "id": "57cca7eb",
   "metadata": {},
   "outputs": [
    {
     "data": {
      "text/plain": [
       "0"
      ]
     },
     "execution_count": 5,
     "metadata": {},
     "output_type": "execute_result"
    }
   ],
   "source": [
    "# Checking for duplicate data in the protein dataset\n",
    "protein_data.duplicated().sum()"
   ]
  },
  {
   "cell_type": "markdown",
   "id": "7598d07c",
   "metadata": {},
   "source": [
    "- No duplicate data was found in the protein dataset"
   ]
  },
  {
   "cell_type": "markdown",
   "id": "19b5313f",
   "metadata": {},
   "source": [
    "## Preprocessing the clinical dataset"
   ]
  },
  {
   "cell_type": "code",
   "execution_count": 6,
   "id": "f7af0b54",
   "metadata": {},
   "outputs": [],
   "source": [
    "# Reading the clinical study data\n",
    "clinical_data = pd.read_csv(\"clinical-study.csv\")"
   ]
  },
  {
   "cell_type": "code",
   "execution_count": 7,
   "id": "68171dfb",
   "metadata": {},
   "outputs": [
    {
     "data": {
      "text/plain": [
       "(772, 7)"
      ]
     },
     "execution_count": 7,
     "metadata": {},
     "output_type": "execute_result"
    }
   ],
   "source": [
    "# Checking the data dimension of the clinical dataset\n",
    "clinical_data.shape"
   ]
  },
  {
   "cell_type": "markdown",
   "id": "bef1a3c9",
   "metadata": {},
   "source": [
    "- The clinical dataset contains 772 rows and 7 columns"
   ]
  },
  {
   "cell_type": "code",
   "execution_count": 8,
   "id": "a8d36d04",
   "metadata": {},
   "outputs": [
    {
     "data": {
      "text/html": [
       "<div>\n",
       "<style scoped>\n",
       "    .dataframe tbody tr th:only-of-type {\n",
       "        vertical-align: middle;\n",
       "    }\n",
       "\n",
       "    .dataframe tbody tr th {\n",
       "        vertical-align: top;\n",
       "    }\n",
       "\n",
       "    .dataframe thead th {\n",
       "        text-align: right;\n",
       "    }\n",
       "</style>\n",
       "<table border=\"1\" class=\"dataframe\">\n",
       "  <thead>\n",
       "    <tr style=\"text-align: right;\">\n",
       "      <th></th>\n",
       "      <th>subject_id</th>\n",
       "      <th>age</th>\n",
       "      <th>sex</th>\n",
       "      <th>weight</th>\n",
       "      <th>height</th>\n",
       "      <th>trt_grp</th>\n",
       "      <th>RESPONSE</th>\n",
       "    </tr>\n",
       "  </thead>\n",
       "  <tbody>\n",
       "    <tr>\n",
       "      <th>0</th>\n",
       "      <td>SUBJ_001</td>\n",
       "      <td>46.0</td>\n",
       "      <td>Female</td>\n",
       "      <td>84.66</td>\n",
       "      <td>1.59</td>\n",
       "      <td>DRUG</td>\n",
       "      <td>N</td>\n",
       "    </tr>\n",
       "    <tr>\n",
       "      <th>1</th>\n",
       "      <td>SUBJ_001</td>\n",
       "      <td>46.0</td>\n",
       "      <td>Female</td>\n",
       "      <td>84.66</td>\n",
       "      <td>1.59</td>\n",
       "      <td>DRUG</td>\n",
       "      <td>N</td>\n",
       "    </tr>\n",
       "    <tr>\n",
       "      <th>2</th>\n",
       "      <td>SUBJ_002</td>\n",
       "      <td>47.0</td>\n",
       "      <td>Female</td>\n",
       "      <td>71.21</td>\n",
       "      <td>1.64</td>\n",
       "      <td>DRUG</td>\n",
       "      <td>Y</td>\n",
       "    </tr>\n",
       "    <tr>\n",
       "      <th>3</th>\n",
       "      <td>SUBJ_003</td>\n",
       "      <td>48.0</td>\n",
       "      <td>Female</td>\n",
       "      <td>69.85</td>\n",
       "      <td>1.73</td>\n",
       "      <td>CONTROL</td>\n",
       "      <td>N</td>\n",
       "    </tr>\n",
       "    <tr>\n",
       "      <th>4</th>\n",
       "      <td>SUBJ_004</td>\n",
       "      <td>59.0</td>\n",
       "      <td>Female</td>\n",
       "      <td>62.94</td>\n",
       "      <td>1.50</td>\n",
       "      <td>DRUG</td>\n",
       "      <td>Y</td>\n",
       "    </tr>\n",
       "  </tbody>\n",
       "</table>\n",
       "</div>"
      ],
      "text/plain": [
       "  subject_id   age     sex  weight  height  trt_grp RESPONSE\n",
       "0   SUBJ_001  46.0  Female   84.66    1.59     DRUG        N\n",
       "1   SUBJ_001  46.0  Female   84.66    1.59     DRUG        N\n",
       "2   SUBJ_002  47.0  Female   71.21    1.64     DRUG        Y\n",
       "3   SUBJ_003  48.0  Female   69.85    1.73  CONTROL        N\n",
       "4   SUBJ_004  59.0  Female   62.94    1.50     DRUG        Y"
      ]
     },
     "execution_count": 8,
     "metadata": {},
     "output_type": "execute_result"
    }
   ],
   "source": [
    "# Displaying the first 5 rows of the clinical dataset\n",
    "clinical_data.head()"
   ]
  },
  {
   "cell_type": "markdown",
   "id": "af92aaae",
   "metadata": {},
   "source": [
    "- Given that the \"subject_id\" column in the clinical dataset and the \"participant_id\" column in the protein level dataset contain similar values, it is necessary to rename the \"subject_id\" column heading to \"participant_id\"."
   ]
  },
  {
   "cell_type": "code",
   "execution_count": 9,
   "id": "60c002d3",
   "metadata": {},
   "outputs": [],
   "source": [
    "# Rename the column heading\n",
    "clinical_data = clinical_data.rename(columns={\"subject_id\": \"participant_id\"})"
   ]
  },
  {
   "cell_type": "code",
   "execution_count": 10,
   "id": "3aaad9c9",
   "metadata": {},
   "outputs": [
    {
     "data": {
      "text/html": [
       "<div>\n",
       "<style scoped>\n",
       "    .dataframe tbody tr th:only-of-type {\n",
       "        vertical-align: middle;\n",
       "    }\n",
       "\n",
       "    .dataframe tbody tr th {\n",
       "        vertical-align: top;\n",
       "    }\n",
       "\n",
       "    .dataframe thead th {\n",
       "        text-align: right;\n",
       "    }\n",
       "</style>\n",
       "<table border=\"1\" class=\"dataframe\">\n",
       "  <thead>\n",
       "    <tr style=\"text-align: right;\">\n",
       "      <th></th>\n",
       "      <th>participant_id</th>\n",
       "      <th>age</th>\n",
       "      <th>sex</th>\n",
       "      <th>weight</th>\n",
       "      <th>height</th>\n",
       "      <th>trt_grp</th>\n",
       "      <th>RESPONSE</th>\n",
       "    </tr>\n",
       "  </thead>\n",
       "  <tbody>\n",
       "    <tr>\n",
       "      <th>0</th>\n",
       "      <td>SUBJ_001</td>\n",
       "      <td>46.0</td>\n",
       "      <td>Female</td>\n",
       "      <td>84.66</td>\n",
       "      <td>1.59</td>\n",
       "      <td>DRUG</td>\n",
       "      <td>N</td>\n",
       "    </tr>\n",
       "    <tr>\n",
       "      <th>1</th>\n",
       "      <td>SUBJ_001</td>\n",
       "      <td>46.0</td>\n",
       "      <td>Female</td>\n",
       "      <td>84.66</td>\n",
       "      <td>1.59</td>\n",
       "      <td>DRUG</td>\n",
       "      <td>N</td>\n",
       "    </tr>\n",
       "    <tr>\n",
       "      <th>2</th>\n",
       "      <td>SUBJ_002</td>\n",
       "      <td>47.0</td>\n",
       "      <td>Female</td>\n",
       "      <td>71.21</td>\n",
       "      <td>1.64</td>\n",
       "      <td>DRUG</td>\n",
       "      <td>Y</td>\n",
       "    </tr>\n",
       "    <tr>\n",
       "      <th>3</th>\n",
       "      <td>SUBJ_003</td>\n",
       "      <td>48.0</td>\n",
       "      <td>Female</td>\n",
       "      <td>69.85</td>\n",
       "      <td>1.73</td>\n",
       "      <td>CONTROL</td>\n",
       "      <td>N</td>\n",
       "    </tr>\n",
       "    <tr>\n",
       "      <th>4</th>\n",
       "      <td>SUBJ_004</td>\n",
       "      <td>59.0</td>\n",
       "      <td>Female</td>\n",
       "      <td>62.94</td>\n",
       "      <td>1.50</td>\n",
       "      <td>DRUG</td>\n",
       "      <td>Y</td>\n",
       "    </tr>\n",
       "  </tbody>\n",
       "</table>\n",
       "</div>"
      ],
      "text/plain": [
       "  participant_id   age     sex  weight  height  trt_grp RESPONSE\n",
       "0       SUBJ_001  46.0  Female   84.66    1.59     DRUG        N\n",
       "1       SUBJ_001  46.0  Female   84.66    1.59     DRUG        N\n",
       "2       SUBJ_002  47.0  Female   71.21    1.64     DRUG        Y\n",
       "3       SUBJ_003  48.0  Female   69.85    1.73  CONTROL        N\n",
       "4       SUBJ_004  59.0  Female   62.94    1.50     DRUG        Y"
      ]
     },
     "execution_count": 10,
     "metadata": {},
     "output_type": "execute_result"
    }
   ],
   "source": [
    "# Sanity Check\n",
    "clinical_data.head()"
   ]
  },
  {
   "cell_type": "markdown",
   "id": "cbf9fecf",
   "metadata": {},
   "source": [
    "- From the result above, it can be observed that the column heading \"subject_id\" has been successfully renamed to \"participant_id\". This renaming will facilitate the merging of the two tables. Additionally, by examining the first five rows of the dataset, it becomes apparent that duplicates exist within the data. Further investigation into these duplicates will be conducted in the subsequent cells."
   ]
  },
  {
   "cell_type": "code",
   "execution_count": 11,
   "id": "c44e7c8f",
   "metadata": {},
   "outputs": [
    {
     "data": {
      "text/plain": [
       "1"
      ]
     },
     "execution_count": 11,
     "metadata": {},
     "output_type": "execute_result"
    }
   ],
   "source": [
    "# Checking for duplicate data in the clinical dataset\n",
    "clinical_data.duplicated().sum()"
   ]
  },
  {
   "cell_type": "markdown",
   "id": "78d764d7",
   "metadata": {},
   "source": [
    "- One (1) duplicate data was found in the dataset."
   ]
  },
  {
   "cell_type": "code",
   "execution_count": 12,
   "id": "08ce586a",
   "metadata": {},
   "outputs": [],
   "source": [
    "# Dropping the duplicate row and resetting the index\n",
    "clinical_data = clinical_data.drop_duplicates().reset_index(drop=True)"
   ]
  },
  {
   "cell_type": "code",
   "execution_count": 13,
   "id": "9be3c6df",
   "metadata": {},
   "outputs": [
    {
     "data": {
      "text/plain": [
       "0"
      ]
     },
     "execution_count": 13,
     "metadata": {},
     "output_type": "execute_result"
    }
   ],
   "source": [
    "# Sanity check\n",
    "clinical_data.duplicated().sum()"
   ]
  },
  {
   "cell_type": "markdown",
   "id": "08c103b4",
   "metadata": {},
   "source": [
    "- It's clear that the duplicate data has been dropped."
   ]
  },
  {
   "cell_type": "code",
   "execution_count": 14,
   "id": "a4372e1a",
   "metadata": {},
   "outputs": [
    {
     "data": {
      "text/html": [
       "<div>\n",
       "<style scoped>\n",
       "    .dataframe tbody tr th:only-of-type {\n",
       "        vertical-align: middle;\n",
       "    }\n",
       "\n",
       "    .dataframe tbody tr th {\n",
       "        vertical-align: top;\n",
       "    }\n",
       "\n",
       "    .dataframe thead th {\n",
       "        text-align: right;\n",
       "    }\n",
       "</style>\n",
       "<table border=\"1\" class=\"dataframe\">\n",
       "  <thead>\n",
       "    <tr style=\"text-align: right;\">\n",
       "      <th></th>\n",
       "      <th>participant_id</th>\n",
       "      <th>age</th>\n",
       "      <th>sex</th>\n",
       "      <th>weight</th>\n",
       "      <th>height</th>\n",
       "      <th>trt_grp</th>\n",
       "      <th>RESPONSE</th>\n",
       "    </tr>\n",
       "  </thead>\n",
       "  <tbody>\n",
       "    <tr>\n",
       "      <th>768</th>\n",
       "      <td>SUBJ_A69</td>\n",
       "      <td>7.200</td>\n",
       "      <td>Female</td>\n",
       "      <td>22.310</td>\n",
       "      <td>1.19300</td>\n",
       "      <td>DRUG</td>\n",
       "      <td>N</td>\n",
       "    </tr>\n",
       "    <tr>\n",
       "      <th>769</th>\n",
       "      <td>SUBJ_A70</td>\n",
       "      <td>8.310</td>\n",
       "      <td>Female</td>\n",
       "      <td>24.220</td>\n",
       "      <td>1.27440</td>\n",
       "      <td>CONTROL</td>\n",
       "      <td>N</td>\n",
       "    </tr>\n",
       "    <tr>\n",
       "      <th>770</th>\n",
       "      <td>SUBJ_A71</td>\n",
       "      <td>7.854</td>\n",
       "      <td>Male</td>\n",
       "      <td>23.176</td>\n",
       "      <td>1.26343</td>\n",
       "      <td>CONTROL</td>\n",
       "      <td>N</td>\n",
       "    </tr>\n",
       "  </tbody>\n",
       "</table>\n",
       "</div>"
      ],
      "text/plain": [
       "    participant_id    age     sex  weight   height  trt_grp RESPONSE\n",
       "768       SUBJ_A69  7.200  Female  22.310  1.19300     DRUG        N\n",
       "769       SUBJ_A70  8.310  Female  24.220  1.27440  CONTROL        N\n",
       "770       SUBJ_A71  7.854    Male  23.176  1.26343  CONTROL        N"
      ]
     },
     "execution_count": 14,
     "metadata": {},
     "output_type": "execute_result"
    }
   ],
   "source": [
    "# Checking if there is any paediatric data in the dataset\n",
    "clinical_data[clinical_data[\"age\"] < 18]"
   ]
  },
  {
   "cell_type": "markdown",
   "id": "ff6851b9",
   "metadata": {},
   "source": [
    "- It's clear from the result above that there are 3 records of paediatric patients present in the clinical dataset and will be expunged in the following cell."
   ]
  },
  {
   "cell_type": "code",
   "execution_count": 15,
   "id": "d443f41e",
   "metadata": {},
   "outputs": [],
   "source": [
    "# Finding the rows where age is less than 18\n",
    "rows_to_drop = clinical_data[clinical_data[\"age\"] < 18].index\n",
    "\n",
    "# Dropping the rows from the DataFrame\n",
    "clinical_data.drop(rows_to_drop, inplace=True)"
   ]
  },
  {
   "cell_type": "code",
   "execution_count": 16,
   "id": "cc52b132",
   "metadata": {},
   "outputs": [
    {
     "data": {
      "text/html": [
       "<div>\n",
       "<style scoped>\n",
       "    .dataframe tbody tr th:only-of-type {\n",
       "        vertical-align: middle;\n",
       "    }\n",
       "\n",
       "    .dataframe tbody tr th {\n",
       "        vertical-align: top;\n",
       "    }\n",
       "\n",
       "    .dataframe thead th {\n",
       "        text-align: right;\n",
       "    }\n",
       "</style>\n",
       "<table border=\"1\" class=\"dataframe\">\n",
       "  <thead>\n",
       "    <tr style=\"text-align: right;\">\n",
       "      <th></th>\n",
       "      <th>participant_id</th>\n",
       "      <th>age</th>\n",
       "      <th>sex</th>\n",
       "      <th>weight</th>\n",
       "      <th>height</th>\n",
       "      <th>trt_grp</th>\n",
       "      <th>RESPONSE</th>\n",
       "    </tr>\n",
       "  </thead>\n",
       "  <tbody>\n",
       "  </tbody>\n",
       "</table>\n",
       "</div>"
      ],
      "text/plain": [
       "Empty DataFrame\n",
       "Columns: [participant_id, age, sex, weight, height, trt_grp, RESPONSE]\n",
       "Index: []"
      ]
     },
     "execution_count": 16,
     "metadata": {},
     "output_type": "execute_result"
    }
   ],
   "source": [
    "# Sanity check\n",
    "clinical_data[clinical_data[\"age\"] < 18]"
   ]
  },
  {
   "cell_type": "markdown",
   "id": "4c85592b",
   "metadata": {},
   "source": [
    "- The result above shows that the rows where age is less than 18 have been dropped."
   ]
  },
  {
   "cell_type": "code",
   "execution_count": 17,
   "id": "2184a58c",
   "metadata": {},
   "outputs": [
    {
     "data": {
      "text/plain": [
       "(768, 7)"
      ]
     },
     "execution_count": 17,
     "metadata": {},
     "output_type": "execute_result"
    }
   ],
   "source": [
    "# Checking the new shape of the clinical data\n",
    "clinical_data.shape"
   ]
  },
  {
   "cell_type": "markdown",
   "id": "4c6a5771",
   "metadata": {},
   "source": [
    "- It's evident from the result above that the clinical data and protein level data now have the same number of rows and are  ready for merging."
   ]
  },
  {
   "cell_type": "markdown",
   "id": "d699329b",
   "metadata": {},
   "source": [
    "## Merging the clinical and protein datasets"
   ]
  },
  {
   "cell_type": "code",
   "execution_count": 18,
   "id": "7f8d42fb",
   "metadata": {},
   "outputs": [],
   "source": [
    "# Merging the two datasets on the \"participant_id\" column\n",
    "merged_data = pd.merge(clinical_data, protein_data, on=\"participant_id\")\n",
    "\n",
    "# Rename the merged column as \"patient_id\"\n",
    "merged_data = merged_data.rename(columns={\"participant_id\": \"patient_id\"})"
   ]
  },
  {
   "cell_type": "code",
   "execution_count": 19,
   "id": "c43dfb89",
   "metadata": {},
   "outputs": [
    {
     "data": {
      "text/plain": [
       "(768, 8)"
      ]
     },
     "execution_count": 19,
     "metadata": {},
     "output_type": "execute_result"
    }
   ],
   "source": [
    "# Showing the data dimension of the merged data\n",
    "merged_data.shape"
   ]
  },
  {
   "cell_type": "markdown",
   "id": "01354716",
   "metadata": {},
   "source": [
    "- The dataset contains 768 rows and 8 columns"
   ]
  },
  {
   "cell_type": "code",
   "execution_count": 20,
   "id": "92f490a7",
   "metadata": {},
   "outputs": [
    {
     "data": {
      "text/html": [
       "<div>\n",
       "<style scoped>\n",
       "    .dataframe tbody tr th:only-of-type {\n",
       "        vertical-align: middle;\n",
       "    }\n",
       "\n",
       "    .dataframe tbody tr th {\n",
       "        vertical-align: top;\n",
       "    }\n",
       "\n",
       "    .dataframe thead th {\n",
       "        text-align: right;\n",
       "    }\n",
       "</style>\n",
       "<table border=\"1\" class=\"dataframe\">\n",
       "  <thead>\n",
       "    <tr style=\"text-align: right;\">\n",
       "      <th></th>\n",
       "      <th>patient_id</th>\n",
       "      <th>age</th>\n",
       "      <th>sex</th>\n",
       "      <th>weight</th>\n",
       "      <th>height</th>\n",
       "      <th>trt_grp</th>\n",
       "      <th>RESPONSE</th>\n",
       "      <th>protein_concentration</th>\n",
       "    </tr>\n",
       "  </thead>\n",
       "  <tbody>\n",
       "    <tr>\n",
       "      <th>0</th>\n",
       "      <td>SUBJ_001</td>\n",
       "      <td>46.0</td>\n",
       "      <td>Female</td>\n",
       "      <td>84.66</td>\n",
       "      <td>1.59</td>\n",
       "      <td>DRUG</td>\n",
       "      <td>N</td>\n",
       "      <td>148.0</td>\n",
       "    </tr>\n",
       "    <tr>\n",
       "      <th>1</th>\n",
       "      <td>SUBJ_002</td>\n",
       "      <td>47.0</td>\n",
       "      <td>Female</td>\n",
       "      <td>71.21</td>\n",
       "      <td>1.64</td>\n",
       "      <td>DRUG</td>\n",
       "      <td>Y</td>\n",
       "      <td>85.0</td>\n",
       "    </tr>\n",
       "    <tr>\n",
       "      <th>2</th>\n",
       "      <td>SUBJ_003</td>\n",
       "      <td>48.0</td>\n",
       "      <td>Female</td>\n",
       "      <td>69.85</td>\n",
       "      <td>1.73</td>\n",
       "      <td>CONTROL</td>\n",
       "      <td>N</td>\n",
       "      <td>183.0</td>\n",
       "    </tr>\n",
       "    <tr>\n",
       "      <th>3</th>\n",
       "      <td>SUBJ_004</td>\n",
       "      <td>59.0</td>\n",
       "      <td>Female</td>\n",
       "      <td>62.94</td>\n",
       "      <td>1.50</td>\n",
       "      <td>DRUG</td>\n",
       "      <td>Y</td>\n",
       "      <td>89.0</td>\n",
       "    </tr>\n",
       "    <tr>\n",
       "      <th>4</th>\n",
       "      <td>SUBJ_005</td>\n",
       "      <td>59.0</td>\n",
       "      <td>Female</td>\n",
       "      <td>113.91</td>\n",
       "      <td>1.63</td>\n",
       "      <td>CONTROL</td>\n",
       "      <td>N</td>\n",
       "      <td>137.0</td>\n",
       "    </tr>\n",
       "  </tbody>\n",
       "</table>\n",
       "</div>"
      ],
      "text/plain": [
       "  patient_id   age     sex  weight  height  trt_grp RESPONSE  \\\n",
       "0   SUBJ_001  46.0  Female   84.66    1.59     DRUG        N   \n",
       "1   SUBJ_002  47.0  Female   71.21    1.64     DRUG        Y   \n",
       "2   SUBJ_003  48.0  Female   69.85    1.73  CONTROL        N   \n",
       "3   SUBJ_004  59.0  Female   62.94    1.50     DRUG        Y   \n",
       "4   SUBJ_005  59.0  Female  113.91    1.63  CONTROL        N   \n",
       "\n",
       "   protein_concentration  \n",
       "0                  148.0  \n",
       "1                   85.0  \n",
       "2                  183.0  \n",
       "3                   89.0  \n",
       "4                  137.0  "
      ]
     },
     "execution_count": 20,
     "metadata": {},
     "output_type": "execute_result"
    }
   ],
   "source": [
    "# Showing the first 5 rows of the merged dataset\n",
    "merged_data.head()"
   ]
  },
  {
   "cell_type": "markdown",
   "id": "0c4e02fc",
   "metadata": {},
   "source": [
    "- The two clinical dataset and protein dataset have been successfully merged."
   ]
  },
  {
   "cell_type": "markdown",
   "id": "14883969",
   "metadata": {},
   "source": [
    "## Handling Missing Values"
   ]
  },
  {
   "cell_type": "code",
   "execution_count": 21,
   "id": "6d0fdcb2",
   "metadata": {},
   "outputs": [
    {
     "data": {
      "text/plain": [
       "patient_id                0\n",
       "age                       0\n",
       "sex                       0\n",
       "weight                   11\n",
       "height                    0\n",
       "trt_grp                   0\n",
       "RESPONSE                  0\n",
       "protein_concentration     5\n",
       "dtype: int64"
      ]
     },
     "execution_count": 21,
     "metadata": {},
     "output_type": "execute_result"
    }
   ],
   "source": [
    "# Checking the missing values\n",
    "merged_data.isnull().sum()"
   ]
  },
  {
   "cell_type": "markdown",
   "id": "e4ece182",
   "metadata": {},
   "source": [
    "- This result above shows that there are 11 missing values in the weight variables and 5 missing values in the protein_concentration variable. This will be further investigated in the following cell."
   ]
  },
  {
   "cell_type": "code",
   "execution_count": 22,
   "id": "0031216c",
   "metadata": {},
   "outputs": [
    {
     "data": {
      "text/html": [
       "<div>\n",
       "<style scoped>\n",
       "    .dataframe tbody tr th:only-of-type {\n",
       "        vertical-align: middle;\n",
       "    }\n",
       "\n",
       "    .dataframe tbody tr th {\n",
       "        vertical-align: top;\n",
       "    }\n",
       "\n",
       "    .dataframe thead th {\n",
       "        text-align: right;\n",
       "    }\n",
       "</style>\n",
       "<table border=\"1\" class=\"dataframe\">\n",
       "  <thead>\n",
       "    <tr style=\"text-align: right;\">\n",
       "      <th></th>\n",
       "      <th>patient_id</th>\n",
       "      <th>age</th>\n",
       "      <th>sex</th>\n",
       "      <th>weight</th>\n",
       "      <th>height</th>\n",
       "      <th>trt_grp</th>\n",
       "      <th>RESPONSE</th>\n",
       "      <th>protein_concentration</th>\n",
       "    </tr>\n",
       "  </thead>\n",
       "  <tbody>\n",
       "    <tr>\n",
       "      <th>9</th>\n",
       "      <td>SUBJ_010</td>\n",
       "      <td>73.0</td>\n",
       "      <td>Female</td>\n",
       "      <td>NaN</td>\n",
       "      <td>1.64</td>\n",
       "      <td>DRUG</td>\n",
       "      <td>Y</td>\n",
       "      <td>125.0</td>\n",
       "    </tr>\n",
       "    <tr>\n",
       "      <th>49</th>\n",
       "      <td>SUBJ_050</td>\n",
       "      <td>65.0</td>\n",
       "      <td>Male</td>\n",
       "      <td>NaN</td>\n",
       "      <td>1.71</td>\n",
       "      <td>DRUG</td>\n",
       "      <td>N</td>\n",
       "      <td>105.0</td>\n",
       "    </tr>\n",
       "    <tr>\n",
       "      <th>60</th>\n",
       "      <td>SUBJ_061</td>\n",
       "      <td>61.0</td>\n",
       "      <td>Male</td>\n",
       "      <td>NaN</td>\n",
       "      <td>1.79</td>\n",
       "      <td>CONTROL</td>\n",
       "      <td>N</td>\n",
       "      <td>84.0</td>\n",
       "    </tr>\n",
       "    <tr>\n",
       "      <th>75</th>\n",
       "      <td>SUBJ_076</td>\n",
       "      <td>78.0</td>\n",
       "      <td>Male</td>\n",
       "      <td>78.92</td>\n",
       "      <td>1.79</td>\n",
       "      <td>DRUG</td>\n",
       "      <td>N</td>\n",
       "      <td>NaN</td>\n",
       "    </tr>\n",
       "    <tr>\n",
       "      <th>81</th>\n",
       "      <td>SUBJ_082</td>\n",
       "      <td>65.0</td>\n",
       "      <td>Male</td>\n",
       "      <td>NaN</td>\n",
       "      <td>1.78</td>\n",
       "      <td>CONTROL</td>\n",
       "      <td>N</td>\n",
       "      <td>74.0</td>\n",
       "    </tr>\n",
       "    <tr>\n",
       "      <th>145</th>\n",
       "      <td>SUBJ_146</td>\n",
       "      <td>56.0</td>\n",
       "      <td>Female</td>\n",
       "      <td>NaN</td>\n",
       "      <td>1.57</td>\n",
       "      <td>CONTROL</td>\n",
       "      <td>N</td>\n",
       "      <td>102.0</td>\n",
       "    </tr>\n",
       "    <tr>\n",
       "      <th>182</th>\n",
       "      <td>SUBJ_183</td>\n",
       "      <td>56.0</td>\n",
       "      <td>Male</td>\n",
       "      <td>91.92</td>\n",
       "      <td>1.83</td>\n",
       "      <td>DRUG</td>\n",
       "      <td>N</td>\n",
       "      <td>NaN</td>\n",
       "    </tr>\n",
       "    <tr>\n",
       "      <th>342</th>\n",
       "      <td>SUBJ_343</td>\n",
       "      <td>70.0</td>\n",
       "      <td>Male</td>\n",
       "      <td>92.01</td>\n",
       "      <td>1.70</td>\n",
       "      <td>DRUG</td>\n",
       "      <td>N</td>\n",
       "      <td>NaN</td>\n",
       "    </tr>\n",
       "    <tr>\n",
       "      <th>349</th>\n",
       "      <td>SUBJ_350</td>\n",
       "      <td>51.0</td>\n",
       "      <td>Male</td>\n",
       "      <td>118.81</td>\n",
       "      <td>1.71</td>\n",
       "      <td>DRUG</td>\n",
       "      <td>Y</td>\n",
       "      <td>NaN</td>\n",
       "    </tr>\n",
       "    <tr>\n",
       "      <th>371</th>\n",
       "      <td>SUBJ_372</td>\n",
       "      <td>67.0</td>\n",
       "      <td>Female</td>\n",
       "      <td>NaN</td>\n",
       "      <td>1.62</td>\n",
       "      <td>CONTROL</td>\n",
       "      <td>N</td>\n",
       "      <td>118.0</td>\n",
       "    </tr>\n",
       "    <tr>\n",
       "      <th>426</th>\n",
       "      <td>SUBJ_427</td>\n",
       "      <td>66.0</td>\n",
       "      <td>Male</td>\n",
       "      <td>NaN</td>\n",
       "      <td>1.83</td>\n",
       "      <td>CONTROL</td>\n",
       "      <td>N</td>\n",
       "      <td>94.0</td>\n",
       "    </tr>\n",
       "    <tr>\n",
       "      <th>494</th>\n",
       "      <td>SUBJ_495</td>\n",
       "      <td>60.0</td>\n",
       "      <td>Female</td>\n",
       "      <td>NaN</td>\n",
       "      <td>1.65</td>\n",
       "      <td>CONTROL</td>\n",
       "      <td>N</td>\n",
       "      <td>80.0</td>\n",
       "    </tr>\n",
       "    <tr>\n",
       "      <th>502</th>\n",
       "      <td>SUBJ_503</td>\n",
       "      <td>66.0</td>\n",
       "      <td>Female</td>\n",
       "      <td>91.89</td>\n",
       "      <td>1.53</td>\n",
       "      <td>CONTROL</td>\n",
       "      <td>Y</td>\n",
       "      <td>NaN</td>\n",
       "    </tr>\n",
       "    <tr>\n",
       "      <th>522</th>\n",
       "      <td>SUBJ_523</td>\n",
       "      <td>62.0</td>\n",
       "      <td>Female</td>\n",
       "      <td>NaN</td>\n",
       "      <td>1.60</td>\n",
       "      <td>DRUG</td>\n",
       "      <td>N</td>\n",
       "      <td>114.0</td>\n",
       "    </tr>\n",
       "    <tr>\n",
       "      <th>684</th>\n",
       "      <td>SUBJ_685</td>\n",
       "      <td>74.0</td>\n",
       "      <td>Male</td>\n",
       "      <td>NaN</td>\n",
       "      <td>1.81</td>\n",
       "      <td>CONTROL</td>\n",
       "      <td>N</td>\n",
       "      <td>136.0</td>\n",
       "    </tr>\n",
       "    <tr>\n",
       "      <th>706</th>\n",
       "      <td>SUBJ_707</td>\n",
       "      <td>72.0</td>\n",
       "      <td>Male</td>\n",
       "      <td>NaN</td>\n",
       "      <td>1.75</td>\n",
       "      <td>DRUG</td>\n",
       "      <td>Y</td>\n",
       "      <td>115.0</td>\n",
       "    </tr>\n",
       "  </tbody>\n",
       "</table>\n",
       "</div>"
      ],
      "text/plain": [
       "    patient_id   age     sex  weight  height  trt_grp RESPONSE  \\\n",
       "9     SUBJ_010  73.0  Female     NaN    1.64     DRUG        Y   \n",
       "49    SUBJ_050  65.0    Male     NaN    1.71     DRUG        N   \n",
       "60    SUBJ_061  61.0    Male     NaN    1.79  CONTROL        N   \n",
       "75    SUBJ_076  78.0    Male   78.92    1.79     DRUG        N   \n",
       "81    SUBJ_082  65.0    Male     NaN    1.78  CONTROL        N   \n",
       "145   SUBJ_146  56.0  Female     NaN    1.57  CONTROL        N   \n",
       "182   SUBJ_183  56.0    Male   91.92    1.83     DRUG        N   \n",
       "342   SUBJ_343  70.0    Male   92.01    1.70     DRUG        N   \n",
       "349   SUBJ_350  51.0    Male  118.81    1.71     DRUG        Y   \n",
       "371   SUBJ_372  67.0  Female     NaN    1.62  CONTROL        N   \n",
       "426   SUBJ_427  66.0    Male     NaN    1.83  CONTROL        N   \n",
       "494   SUBJ_495  60.0  Female     NaN    1.65  CONTROL        N   \n",
       "502   SUBJ_503  66.0  Female   91.89    1.53  CONTROL        Y   \n",
       "522   SUBJ_523  62.0  Female     NaN    1.60     DRUG        N   \n",
       "684   SUBJ_685  74.0    Male     NaN    1.81  CONTROL        N   \n",
       "706   SUBJ_707  72.0    Male     NaN    1.75     DRUG        Y   \n",
       "\n",
       "     protein_concentration  \n",
       "9                    125.0  \n",
       "49                   105.0  \n",
       "60                    84.0  \n",
       "75                     NaN  \n",
       "81                    74.0  \n",
       "145                  102.0  \n",
       "182                    NaN  \n",
       "342                    NaN  \n",
       "349                    NaN  \n",
       "371                  118.0  \n",
       "426                   94.0  \n",
       "494                   80.0  \n",
       "502                    NaN  \n",
       "522                  114.0  \n",
       "684                  136.0  \n",
       "706                  115.0  "
      ]
     },
     "execution_count": 22,
     "metadata": {},
     "output_type": "execute_result"
    }
   ],
   "source": [
    "# Finding the rows with missing values\n",
    "rows_with_missing_values = merged_data[merged_data.isnull().any(axis=1)]\n",
    "\n",
    "# Displaying the rows with missing values\n",
    "rows_with_missing_values"
   ]
  },
  {
   "cell_type": "markdown",
   "id": "9aaf1682",
   "metadata": {},
   "source": [
    "- As the missing values cannot be imputed solely based on other variables, alternative statistical methods will be utilized to fill in the missing values."
   ]
  },
  {
   "cell_type": "code",
   "execution_count": 23,
   "id": "a6d175ec",
   "metadata": {},
   "outputs": [],
   "source": [
    "# Filling in missing values in the weight variable with the mean value\n",
    "merged_data['weight'].fillna(merged_data['weight'].mean(), inplace=True)"
   ]
  },
  {
   "cell_type": "code",
   "execution_count": 24,
   "id": "3212fd47",
   "metadata": {},
   "outputs": [],
   "source": [
    "# Filling in missing values in the weight variable with the median value\n",
    "merged_data['protein_concentration'].fillna(merged_data['protein_concentration'].median(), inplace=True)"
   ]
  },
  {
   "cell_type": "code",
   "execution_count": 25,
   "id": "b39e5fbe",
   "metadata": {},
   "outputs": [
    {
     "data": {
      "text/plain": [
       "patient_id               0\n",
       "age                      0\n",
       "sex                      0\n",
       "weight                   0\n",
       "height                   0\n",
       "trt_grp                  0\n",
       "RESPONSE                 0\n",
       "protein_concentration    0\n",
       "dtype: int64"
      ]
     },
     "execution_count": 25,
     "metadata": {},
     "output_type": "execute_result"
    }
   ],
   "source": [
    "# Sanity check\n",
    "merged_data.isnull().sum()"
   ]
  },
  {
   "cell_type": "markdown",
   "id": "218cfc77",
   "metadata": {},
   "source": [
    "- It's evident from the result above that the missing values have been filled."
   ]
  },
  {
   "cell_type": "code",
   "execution_count": 26,
   "id": "0cb5297f",
   "metadata": {},
   "outputs": [
    {
     "name": "stdout",
     "output_type": "stream",
     "text": [
      "<class 'pandas.core.frame.DataFrame'>\n",
      "Int64Index: 768 entries, 0 to 767\n",
      "Data columns (total 8 columns):\n",
      " #   Column                 Non-Null Count  Dtype  \n",
      "---  ------                 --------------  -----  \n",
      " 0   patient_id             768 non-null    object \n",
      " 1   age                    768 non-null    float64\n",
      " 2   sex                    768 non-null    object \n",
      " 3   weight                 768 non-null    float64\n",
      " 4   height                 768 non-null    float64\n",
      " 5   trt_grp                768 non-null    object \n",
      " 6   RESPONSE               768 non-null    object \n",
      " 7   protein_concentration  768 non-null    float64\n",
      "dtypes: float64(4), object(4)\n",
      "memory usage: 54.0+ KB\n"
     ]
    }
   ],
   "source": [
    "# Checking some information about the dataset\n",
    "merged_data.info()"
   ]
  },
  {
   "cell_type": "markdown",
   "id": "3e19c09b",
   "metadata": {},
   "source": [
    "- All the variables have the right data types."
   ]
  },
  {
   "cell_type": "markdown",
   "id": "8b51211b",
   "metadata": {},
   "source": [
    "## Feature Engineering\n",
    "A new column will be added to the data for the BMI of the patients. \n",
    "BMI is calculated by dividing weight by the square of height."
   ]
  },
  {
   "cell_type": "code",
   "execution_count": 27,
   "id": "d2959612",
   "metadata": {},
   "outputs": [],
   "source": [
    "# Calculating the BMI (Body Mass Index)\n",
    "merged_data['bmi'] = merged_data['weight'] / ((merged_data['height']) ** 2)\n",
    "\n",
    "# Rounding the 'bmi' variable to two decimal places\n",
    "merged_data['bmi'] = merged_data['bmi'].round(2)"
   ]
  },
  {
   "cell_type": "code",
   "execution_count": 28,
   "id": "5a0aae92",
   "metadata": {},
   "outputs": [
    {
     "data": {
      "text/html": [
       "<div>\n",
       "<style scoped>\n",
       "    .dataframe tbody tr th:only-of-type {\n",
       "        vertical-align: middle;\n",
       "    }\n",
       "\n",
       "    .dataframe tbody tr th {\n",
       "        vertical-align: top;\n",
       "    }\n",
       "\n",
       "    .dataframe thead th {\n",
       "        text-align: right;\n",
       "    }\n",
       "</style>\n",
       "<table border=\"1\" class=\"dataframe\">\n",
       "  <thead>\n",
       "    <tr style=\"text-align: right;\">\n",
       "      <th></th>\n",
       "      <th>patient_id</th>\n",
       "      <th>age</th>\n",
       "      <th>sex</th>\n",
       "      <th>weight</th>\n",
       "      <th>height</th>\n",
       "      <th>trt_grp</th>\n",
       "      <th>RESPONSE</th>\n",
       "      <th>protein_concentration</th>\n",
       "      <th>bmi</th>\n",
       "    </tr>\n",
       "  </thead>\n",
       "  <tbody>\n",
       "    <tr>\n",
       "      <th>0</th>\n",
       "      <td>SUBJ_001</td>\n",
       "      <td>46.0</td>\n",
       "      <td>Female</td>\n",
       "      <td>84.66</td>\n",
       "      <td>1.59</td>\n",
       "      <td>DRUG</td>\n",
       "      <td>N</td>\n",
       "      <td>148.0</td>\n",
       "      <td>33.49</td>\n",
       "    </tr>\n",
       "    <tr>\n",
       "      <th>1</th>\n",
       "      <td>SUBJ_002</td>\n",
       "      <td>47.0</td>\n",
       "      <td>Female</td>\n",
       "      <td>71.21</td>\n",
       "      <td>1.64</td>\n",
       "      <td>DRUG</td>\n",
       "      <td>Y</td>\n",
       "      <td>85.0</td>\n",
       "      <td>26.48</td>\n",
       "    </tr>\n",
       "    <tr>\n",
       "      <th>2</th>\n",
       "      <td>SUBJ_003</td>\n",
       "      <td>48.0</td>\n",
       "      <td>Female</td>\n",
       "      <td>69.85</td>\n",
       "      <td>1.73</td>\n",
       "      <td>CONTROL</td>\n",
       "      <td>N</td>\n",
       "      <td>183.0</td>\n",
       "      <td>23.34</td>\n",
       "    </tr>\n",
       "    <tr>\n",
       "      <th>3</th>\n",
       "      <td>SUBJ_004</td>\n",
       "      <td>59.0</td>\n",
       "      <td>Female</td>\n",
       "      <td>62.94</td>\n",
       "      <td>1.50</td>\n",
       "      <td>DRUG</td>\n",
       "      <td>Y</td>\n",
       "      <td>89.0</td>\n",
       "      <td>27.97</td>\n",
       "    </tr>\n",
       "    <tr>\n",
       "      <th>4</th>\n",
       "      <td>SUBJ_005</td>\n",
       "      <td>59.0</td>\n",
       "      <td>Female</td>\n",
       "      <td>113.91</td>\n",
       "      <td>1.63</td>\n",
       "      <td>CONTROL</td>\n",
       "      <td>N</td>\n",
       "      <td>137.0</td>\n",
       "      <td>42.87</td>\n",
       "    </tr>\n",
       "  </tbody>\n",
       "</table>\n",
       "</div>"
      ],
      "text/plain": [
       "  patient_id   age     sex  weight  height  trt_grp RESPONSE  \\\n",
       "0   SUBJ_001  46.0  Female   84.66    1.59     DRUG        N   \n",
       "1   SUBJ_002  47.0  Female   71.21    1.64     DRUG        Y   \n",
       "2   SUBJ_003  48.0  Female   69.85    1.73  CONTROL        N   \n",
       "3   SUBJ_004  59.0  Female   62.94    1.50     DRUG        Y   \n",
       "4   SUBJ_005  59.0  Female  113.91    1.63  CONTROL        N   \n",
       "\n",
       "   protein_concentration    bmi  \n",
       "0                  148.0  33.49  \n",
       "1                   85.0  26.48  \n",
       "2                  183.0  23.34  \n",
       "3                   89.0  27.97  \n",
       "4                  137.0  42.87  "
      ]
     },
     "execution_count": 28,
     "metadata": {},
     "output_type": "execute_result"
    }
   ],
   "source": [
    "# Displaying the new dataframe having the bmi variable\n",
    "merged_data.head()"
   ]
  },
  {
   "cell_type": "code",
   "execution_count": 29,
   "id": "d3b9cdbc",
   "metadata": {},
   "outputs": [
    {
     "data": {
      "text/html": [
       "<div>\n",
       "<style scoped>\n",
       "    .dataframe tbody tr th:only-of-type {\n",
       "        vertical-align: middle;\n",
       "    }\n",
       "\n",
       "    .dataframe tbody tr th {\n",
       "        vertical-align: top;\n",
       "    }\n",
       "\n",
       "    .dataframe thead th {\n",
       "        text-align: right;\n",
       "    }\n",
       "</style>\n",
       "<table border=\"1\" class=\"dataframe\">\n",
       "  <thead>\n",
       "    <tr style=\"text-align: right;\">\n",
       "      <th></th>\n",
       "      <th>count</th>\n",
       "      <th>mean</th>\n",
       "      <th>std</th>\n",
       "      <th>min</th>\n",
       "      <th>25%</th>\n",
       "      <th>50%</th>\n",
       "      <th>75%</th>\n",
       "      <th>max</th>\n",
       "    </tr>\n",
       "  </thead>\n",
       "  <tbody>\n",
       "    <tr>\n",
       "      <th>age</th>\n",
       "      <td>768.0</td>\n",
       "      <td>61.811198</td>\n",
       "      <td>7.107447</td>\n",
       "      <td>37.00</td>\n",
       "      <td>57.0000</td>\n",
       "      <td>62.000</td>\n",
       "      <td>67.00</td>\n",
       "      <td>79.00</td>\n",
       "    </tr>\n",
       "    <tr>\n",
       "      <th>weight</th>\n",
       "      <td>768.0</td>\n",
       "      <td>91.387583</td>\n",
       "      <td>21.977525</td>\n",
       "      <td>46.17</td>\n",
       "      <td>75.9325</td>\n",
       "      <td>89.150</td>\n",
       "      <td>104.40</td>\n",
       "      <td>182.50</td>\n",
       "    </tr>\n",
       "    <tr>\n",
       "      <th>height</th>\n",
       "      <td>768.0</td>\n",
       "      <td>1.679271</td>\n",
       "      <td>0.097888</td>\n",
       "      <td>1.42</td>\n",
       "      <td>1.6000</td>\n",
       "      <td>1.680</td>\n",
       "      <td>1.76</td>\n",
       "      <td>1.94</td>\n",
       "    </tr>\n",
       "    <tr>\n",
       "      <th>protein_concentration</th>\n",
       "      <td>768.0</td>\n",
       "      <td>121.656250</td>\n",
       "      <td>30.438286</td>\n",
       "      <td>44.00</td>\n",
       "      <td>99.7500</td>\n",
       "      <td>117.000</td>\n",
       "      <td>140.25</td>\n",
       "      <td>199.00</td>\n",
       "    </tr>\n",
       "    <tr>\n",
       "      <th>bmi</th>\n",
       "      <td>768.0</td>\n",
       "      <td>32.317005</td>\n",
       "      <td>6.877249</td>\n",
       "      <td>17.98</td>\n",
       "      <td>27.3650</td>\n",
       "      <td>32.085</td>\n",
       "      <td>36.35</td>\n",
       "      <td>67.52</td>\n",
       "    </tr>\n",
       "  </tbody>\n",
       "</table>\n",
       "</div>"
      ],
      "text/plain": [
       "                       count        mean        std    min      25%      50%  \\\n",
       "age                    768.0   61.811198   7.107447  37.00  57.0000   62.000   \n",
       "weight                 768.0   91.387583  21.977525  46.17  75.9325   89.150   \n",
       "height                 768.0    1.679271   0.097888   1.42   1.6000    1.680   \n",
       "protein_concentration  768.0  121.656250  30.438286  44.00  99.7500  117.000   \n",
       "bmi                    768.0   32.317005   6.877249  17.98  27.3650   32.085   \n",
       "\n",
       "                          75%     max  \n",
       "age                     67.00   79.00  \n",
       "weight                 104.40  182.50  \n",
       "height                   1.76    1.94  \n",
       "protein_concentration  140.25  199.00  \n",
       "bmi                     36.35   67.52  "
      ]
     },
     "execution_count": 29,
     "metadata": {},
     "output_type": "execute_result"
    }
   ],
   "source": [
    "# Checking the data description\n",
    "merged_data.describe().T"
   ]
  },
  {
   "cell_type": "markdown",
   "id": "e5b3089b",
   "metadata": {},
   "source": [
    "The summary of the statistics for the variables in the dataset are:\n",
    "\n",
    "- Age: The dataset has an average age of approximately 61.81. The observed ages range from a minimum of 37 to a maximum of 79. The 25th percentile falls below 57, indicating that 25% of the data is below this age. The median age is 62, with 50% of the data falling below this value. The 75th percentile is 67, indicating that 75% of the data is below this age.\n",
    "\n",
    "- Weight: The average weight in the dataset is approximately 91.39. The minimum weight observed is 46.17, while the maximum weight is 182.50. The 25th percentile falls below 75.93, meaning that 25% of the data is below this weight. The median weight is 89.15, with 50% of the data falling below this value. The 75th percentile is 104.40, indicating that 75% of the data is below this weight.\n",
    "\n",
    "- Height: The average height is approximately 1.68. The minimum height observed is 1.42, while the maximum height is 1.94. The 25th percentile falls below 1.60, indicating that 25% of the data is below this height. The median height is 1.68, with 50% of the data falling below this value. The 75th percentile is 1.76, meaning that 75% of the data is below this height.\n",
    "\n",
    "- Protein Concentration: The average protein concentration is approximately 121.66. The minimum concentration observed is 44.00, while the maximum concentration is 199.00. The 25th percentile falls below 99.75, indicating that 25% of the data is below this concentration. The median protein concentration is 117.00, with 50% of the data falling below this value. The 75th percentile is 140.25, meaning that 75% of the data is below this concentration.\n",
    "\n",
    "- BMI: The average BMI is approximately 32.32. The minimum BMI observed is 17.98, while the maximum BMI is 67.52. The 25th percentile falls below 27.36, indicating that 25% of the data is below this BMI. The median BMI is 32.09, with 50% of the data falling below this value. The 75th percentile is 36.35, meaning that 75% of the data is below this BMI."
   ]
  },
  {
   "cell_type": "markdown",
   "id": "39e386f4",
   "metadata": {},
   "source": [
    "## Aggregating the data"
   ]
  },
  {
   "cell_type": "code",
   "execution_count": 33,
   "id": "21a4559f",
   "metadata": {},
   "outputs": [
    {
     "data": {
      "text/plain": [
       "trt_grp\n",
       "CONTROL    61.862338\n",
       "DRUG       61.759791\n",
       "Name: age, dtype: float64"
      ]
     },
     "execution_count": 33,
     "metadata": {},
     "output_type": "execute_result"
    }
   ],
   "source": [
    "# Comparing mean age in the two treatment groups\n",
    "merged_data[\"age\"].groupby(merged_data[\"trt_grp\"]).mean()"
   ]
  },
  {
   "cell_type": "markdown",
   "id": "888a2307",
   "metadata": {},
   "source": [
    "- The analysis reveals that control treatment exhibit a higher mean age (61.86) compared to drug treatment, where the mean age is slightly lower (61.76)."
   ]
  },
  {
   "cell_type": "code",
   "execution_count": 34,
   "id": "1e69f299",
   "metadata": {},
   "outputs": [
    {
     "data": {
      "text/plain": [
       "RESPONSE\n",
       "N    61.748848\n",
       "Y    61.892216\n",
       "Name: age, dtype: float64"
      ]
     },
     "execution_count": 34,
     "metadata": {},
     "output_type": "execute_result"
    }
   ],
   "source": [
    "# Comparing mean age in responders vs non-responders\n",
    "merged_data[\"age\"].groupby(merged_data[\"RESPONSE\"]).mean()"
   ]
  },
  {
   "cell_type": "markdown",
   "id": "2c963a04",
   "metadata": {},
   "source": [
    "- The analysis reveals that responders exhibit a higher mean age (61.89) compared to non-responders, where the mean age is slightly lower (61.75)."
   ]
  },
  {
   "cell_type": "code",
   "execution_count": 38,
   "id": "3cac82d3",
   "metadata": {},
   "outputs": [
    {
     "data": {
      "text/html": [
       "<div>\n",
       "<style scoped>\n",
       "    .dataframe tbody tr th:only-of-type {\n",
       "        vertical-align: middle;\n",
       "    }\n",
       "\n",
       "    .dataframe tbody tr th {\n",
       "        vertical-align: top;\n",
       "    }\n",
       "\n",
       "    .dataframe thead th {\n",
       "        text-align: right;\n",
       "    }\n",
       "</style>\n",
       "<table border=\"1\" class=\"dataframe\">\n",
       "  <thead>\n",
       "    <tr style=\"text-align: right;\">\n",
       "      <th>RESPONSE</th>\n",
       "      <th>N</th>\n",
       "      <th>Y</th>\n",
       "    </tr>\n",
       "    <tr>\n",
       "      <th>trt_grp</th>\n",
       "      <th></th>\n",
       "      <th></th>\n",
       "    </tr>\n",
       "  </thead>\n",
       "  <tbody>\n",
       "    <tr>\n",
       "      <th>CONTROL</th>\n",
       "      <td>261</td>\n",
       "      <td>124</td>\n",
       "    </tr>\n",
       "    <tr>\n",
       "      <th>DRUG</th>\n",
       "      <td>173</td>\n",
       "      <td>210</td>\n",
       "    </tr>\n",
       "  </tbody>\n",
       "</table>\n",
       "</div>"
      ],
      "text/plain": [
       "RESPONSE    N    Y\n",
       "trt_grp           \n",
       "CONTROL   261  124\n",
       "DRUG      173  210"
      ]
     },
     "execution_count": 38,
     "metadata": {},
     "output_type": "execute_result"
    }
   ],
   "source": [
    "# Comparing responders and non-responders in the two treatment arms\n",
    "response_by_treatment = merged_data.groupby([\"trt_grp\", \"RESPONSE\"]).size().unstack()\n",
    "\n",
    "# Print the comparison\n",
    "response_by_treatment"
   ]
  },
  {
   "cell_type": "markdown",
   "id": "7a760b27",
   "metadata": {},
   "source": [
    "- The analysis indicates that a higher number of patients responded to the drug treatment compared to the control treatment. Conversely, the control treatment had a larger population of non-responders than the drug treatment. These findings suggest that the new cancer treatment for solid tumors, known as Miraculon-B, demonstrates greater effectiveness than the current standard of care (referred to as the 'control')."
   ]
  },
  {
   "cell_type": "code",
   "execution_count": 39,
   "id": "684b1cef",
   "metadata": {},
   "outputs": [
    {
     "data": {
      "text/plain": [
       "RESPONSE\n",
       "N    89.953544\n",
       "Y    93.250974\n",
       "Name: weight, dtype: float64"
      ]
     },
     "execution_count": 39,
     "metadata": {},
     "output_type": "execute_result"
    }
   ],
   "source": [
    "# Comparing mean weight in responders vs non-responders\n",
    "merged_data[\"weight\"].groupby(merged_data[\"RESPONSE\"]).mean()"
   ]
  },
  {
   "cell_type": "markdown",
   "id": "f1306e7f",
   "metadata": {},
   "source": [
    "- The analysis reveals that responders exhibit a higher mean weight (93.25) compared to non-responders, where the mean weight is lower (89.95)."
   ]
  },
  {
   "cell_type": "code",
   "execution_count": 43,
   "id": "eb91aabc",
   "metadata": {},
   "outputs": [
    {
     "data": {
      "text/plain": [
       "RESPONSE\n",
       "N    134.852535\n",
       "Y    104.508982\n",
       "Name: protein_concentration, dtype: float64"
      ]
     },
     "execution_count": 43,
     "metadata": {},
     "output_type": "execute_result"
    }
   ],
   "source": [
    "# Comparing mean protein concentration in responders vs non-responders\n",
    "merged_data[\"protein_concentration\"].groupby(merged_data[\"RESPONSE\"]).mean()"
   ]
  },
  {
   "cell_type": "markdown",
   "id": "29bc540f",
   "metadata": {},
   "source": [
    "- The analysis reveals that responders exhibit a lower mean protein concentration (104.51) compared to non-responders, where the mean protein concentration is higher (134.85). This predicts that patients with an average protein concentration of 134.9 may not respond to treatment. It also confirms that assumption that protein concentration is a potential predictive biomarker for solid tumours."
   ]
  },
  {
   "cell_type": "code",
   "execution_count": 51,
   "id": "45d59bcc",
   "metadata": {},
   "outputs": [
    {
     "data": {
      "text/html": [
       "<div>\n",
       "<style scoped>\n",
       "    .dataframe tbody tr th:only-of-type {\n",
       "        vertical-align: middle;\n",
       "    }\n",
       "\n",
       "    .dataframe tbody tr th {\n",
       "        vertical-align: top;\n",
       "    }\n",
       "\n",
       "    .dataframe thead th {\n",
       "        text-align: right;\n",
       "    }\n",
       "</style>\n",
       "<table border=\"1\" class=\"dataframe\">\n",
       "  <thead>\n",
       "    <tr style=\"text-align: right;\">\n",
       "      <th></th>\n",
       "      <th>trt_grp</th>\n",
       "      <th>CONTROL</th>\n",
       "      <th>DRUG</th>\n",
       "    </tr>\n",
       "    <tr>\n",
       "      <th>sex</th>\n",
       "      <th>RESPONSE</th>\n",
       "      <th></th>\n",
       "      <th></th>\n",
       "    </tr>\n",
       "  </thead>\n",
       "  <tbody>\n",
       "    <tr>\n",
       "      <th rowspan=\"2\" valign=\"top\">Female</th>\n",
       "      <th>N</th>\n",
       "      <td>136</td>\n",
       "      <td>84</td>\n",
       "    </tr>\n",
       "    <tr>\n",
       "      <th>Y</th>\n",
       "      <td>66</td>\n",
       "      <td>103</td>\n",
       "    </tr>\n",
       "    <tr>\n",
       "      <th rowspan=\"2\" valign=\"top\">Male</th>\n",
       "      <th>N</th>\n",
       "      <td>125</td>\n",
       "      <td>89</td>\n",
       "    </tr>\n",
       "    <tr>\n",
       "      <th>Y</th>\n",
       "      <td>58</td>\n",
       "      <td>107</td>\n",
       "    </tr>\n",
       "  </tbody>\n",
       "</table>\n",
       "</div>"
      ],
      "text/plain": [
       "trt_grp          CONTROL  DRUG\n",
       "sex    RESPONSE               \n",
       "Female N             136    84\n",
       "       Y              66   103\n",
       "Male   N             125    89\n",
       "       Y              58   107"
      ]
     },
     "execution_count": 51,
     "metadata": {},
     "output_type": "execute_result"
    }
   ],
   "source": [
    "# Comparing sex in responders and non-responders under the two treatment arms\n",
    "response_by_treatment = merged_data.groupby([\"sex\", \"RESPONSE\", \"trt_grp\"]).size().unstack()\n",
    "\n",
    "# Print the comparison\n",
    "response_by_treatment"
   ]
  },
  {
   "cell_type": "markdown",
   "id": "ff8f4bb4",
   "metadata": {},
   "source": [
    "- The analysis reveals that a greater proportion of male patients responded to the drug treatment compared to female patients, albeit with a slightly lower number of responders. However, a greater proportion of female patients responded to the control treatment compared to male patients."
   ]
  },
  {
   "cell_type": "code",
   "execution_count": 52,
   "id": "ef8c1742",
   "metadata": {},
   "outputs": [
    {
     "data": {
      "text/plain": [
       "RESPONSE\n",
       "N    31.855138\n",
       "Y    32.917156\n",
       "Name: bmi, dtype: float64"
      ]
     },
     "execution_count": 52,
     "metadata": {},
     "output_type": "execute_result"
    }
   ],
   "source": [
    "# Comparing mean BMI in responders vs non-responders\n",
    "merged_data[\"bmi\"].groupby(merged_data[\"RESPONSE\"]).mean()"
   ]
  },
  {
   "cell_type": "markdown",
   "id": "da77d71b",
   "metadata": {},
   "source": [
    "- The analysis suggests that patients with higher average bmi responded to treatment compared to patients with lower average bmi who did not respond to treatment."
   ]
  },
  {
   "cell_type": "markdown",
   "id": "56480ac5",
   "metadata": {},
   "source": [
    "## Visualisation"
   ]
  },
  {
   "cell_type": "code",
   "execution_count": 56,
   "id": "6f846086",
   "metadata": {},
   "outputs": [
    {
     "data": {
      "image/png": "[encoded data removed]",
      "text/plain": [
       "<Figure size 1000x600 with 1 Axes>"
      ]
     },
     "metadata": {},
     "output_type": "display_data"
    }
   ],
   "source": [
    "# Set the figure size\n",
    "plt.figure(figsize=(10, 6))\n",
    "\n",
    "# Create the boxplot\n",
    "sns.boxplot(x=\"RESPONSE\", y=\"age\", data=merged_data)\n",
    "\n",
    "# Add labels and title\n",
    "plt.xlabel(\"Response\")\n",
    "plt.ylabel(\"Age\")\n",
    "plt.title(\"Age Distribution by Response\")\n",
    "\n",
    "# Display the plot\n",
    "plt.show()"
   ]
  },
  {
   "cell_type": "markdown",
   "id": "14fc353c",
   "metadata": {},
   "source": [
    "- The plot suggests that the average age of both the responders and non-responders for the two arms of treatment is 62."
   ]
  },
  {
   "cell_type": "code",
   "execution_count": 57,
   "id": "3b98b531",
   "metadata": {},
   "outputs": [
    {
     "data": {
      "image/png": "[encoded data removed]",
      "text/plain": [
       "<Figure size 1000x600 with 1 Axes>"
      ]
     },
     "metadata": {},
     "output_type": "display_data"
    }
   ],
   "source": [
    "# Set the figure size\n",
    "plt.figure(figsize=(10, 6))\n",
    "\n",
    "# Create the boxplot\n",
    "sns.boxplot(x=\"RESPONSE\", y=\"age\", hue = \"trt_grp\", data=merged_data)\n",
    "\n",
    "# Add labels and title\n",
    "plt.xlabel(\"Response\")\n",
    "plt.ylabel(\"Age\")\n",
    "plt.title(\"Age Distribution by Response and Treatment Group\")\n",
    "\n",
    "# Display the plot\n",
    "plt.show()"
   ]
  },
  {
   "cell_type": "markdown",
   "id": "6e921883",
   "metadata": {},
   "source": [
    "- The plot suggests that the average age of both the responders and non-responders for the two arms of treatment is 62."
   ]
  },
  {
   "cell_type": "code",
   "execution_count": 58,
   "id": "7352fb79",
   "metadata": {},
   "outputs": [
    {
     "data": {
      "image/png": "[encoded data removed]",
      "text/plain": [
       "<Figure size 1000x600 with 1 Axes>"
      ]
     },
     "metadata": {},
     "output_type": "display_data"
    }
   ],
   "source": [
    "# Set the figure size\n",
    "plt.figure(figsize=(10, 6))\n",
    "\n",
    "# Create the boxplot\n",
    "sns.boxplot(x=\"RESPONSE\", y=\"weight\", data=merged_data)\n",
    "\n",
    "# Add labels and title\n",
    "plt.xlabel(\"Response\")\n",
    "plt.ylabel(\"Weight\")\n",
    "plt.title(\"Weight Distribution by Response\")\n",
    "\n",
    "# Display the plot\n",
    "plt.show()"
   ]
  },
  {
   "cell_type": "markdown",
   "id": "a7ecfedd",
   "metadata": {},
   "source": [
    "- The plot above suggests that the average weight of both responders and non-responders is 85"
   ]
  },
  {
   "cell_type": "code",
   "execution_count": 59,
   "id": "8ceceb22",
   "metadata": {},
   "outputs": [
    {
     "data": {
      "image/png": "[encoded data removed]",
      "text/plain": [
       "<Figure size 1000x600 with 1 Axes>"
      ]
     },
     "metadata": {},
     "output_type": "display_data"
    }
   ],
   "source": [
    "# Set the figure size\n",
    "plt.figure(figsize=(10, 6))\n",
    "\n",
    "# Create the boxplot\n",
    "sns.boxplot(x=\"RESPONSE\", y=\"weight\", hue = \"trt_grp\", data=merged_data)\n",
    "\n",
    "# Add labels and title\n",
    "plt.xlabel(\"Response\")\n",
    "plt.ylabel(\"Weight\")\n",
    "plt.title(\"Weight Distribution by Response and Treatment Group\")\n",
    "\n",
    "# Display the plot\n",
    "plt.show()"
   ]
  },
  {
   "cell_type": "markdown",
   "id": "0e49ca30",
   "metadata": {},
   "source": [
    "- The plot above suggests that the average weight of both responders and non-responders is 85 for both control treatment and drug treatment groups."
   ]
  },
  {
   "cell_type": "code",
   "execution_count": 61,
   "id": "6429fe8d",
   "metadata": {},
   "outputs": [
    {
     "data": {
      "image/png": "[encoded data removed]",
      "text/plain": [
       "<Figure size 1000x600 with 1 Axes>"
      ]
     },
     "metadata": {},
     "output_type": "display_data"
    }
   ],
   "source": [
    "# Set the figure size\n",
    "plt.figure(figsize=(10, 6))\n",
    "\n",
    "# Create the boxplot\n",
    "sns.boxplot(x=\"RESPONSE\", y=\"protein_concentration\", data=merged_data)\n",
    "\n",
    "# Add labels and title\n",
    "plt.xlabel(\"Response\")\n",
    "plt.ylabel(\"Protein Concentration\")\n",
    "plt.title(\"Protein Concentration Distribution by Response\")\n",
    "\n",
    "# Display the plot\n",
    "plt.show()"
   ]
  },
  {
   "cell_type": "markdown",
   "id": "98c8252e",
   "metadata": {},
   "source": [
    "- The plot above suggests that patients with low protein concentration responded more to control treatment and drug treatment than patients with high protein concentration."
   ]
  },
  {
   "cell_type": "code",
   "execution_count": 60,
   "id": "42852726",
   "metadata": {},
   "outputs": [
    {
     "data": {
      "image/png": "[encoded data removed]",
      "text/plain": [
       "<Figure size 1000x600 with 1 Axes>"
      ]
     },
     "metadata": {},
     "output_type": "display_data"
    }
   ],
   "source": [
    "# Set the figure size\n",
    "plt.figure(figsize=(10, 6))\n",
    "\n",
    "# Create the boxplot\n",
    "sns.boxplot(x=\"RESPONSE\", y=\"protein_concentration\", hue = \"trt_grp\", data=merged_data)\n",
    "\n",
    "# Add labels and title\n",
    "plt.xlabel(\"Response\")\n",
    "plt.ylabel(\"Protein Concentration\")\n",
    "plt.title(\"Protein Concentration Distribution by Response and Treatment Group\")\n",
    "\n",
    "# Display the plot\n",
    "plt.show()"
   ]
  },
  {
   "cell_type": "markdown",
   "id": "43d38846",
   "metadata": {},
   "source": [
    "- The plot above suggests that patients with low protein concentration responded more to control treatment and drug treatment than patients with high protein concentration."
   ]
  },
  {
   "cell_type": "code",
   "execution_count": 66,
   "id": "8e8cf4f4",
   "metadata": {},
   "outputs": [
    {
     "data": {
      "image/png": "[encoded data removed]",
      "text/plain": [
       "<Figure size 800x600 with 1 Axes>"
      ]
     },
     "metadata": {},
     "output_type": "display_data"
    }
   ],
   "source": [
    "# Calculate count and percentage of each marital status\n",
    "count = merged_data['sex'].value_counts()\n",
    "percent = count / len(merged_data) * 100\n",
    "\n",
    "# Create a table-like plot of marital status counts and percentages\n",
    "sns.set_style(\"whitegrid\")\n",
    "fig, ax = plt.subplots(figsize=(8, 6))\n",
    "plt.savefig(\"Marital_Freqplot.png\")\n",
    "ax = sns.barplot(x=count.index, y=percent, palette=\"Blues_d\")\n",
    "ax.set(xlabel='Marital Status', ylabel='Percentage', title='Marital Status Frequency Table')\n",
    "\n",
    "# Add percentage labels above each bar\n",
    "for i, v in enumerate(percent):\n",
    "    ax.text(i,  v+1, f\"{v:.1f}%\", ha='center', fontsize=10)\n",
    "\n",
    "plt.show()"
   ]
  },
  {
   "cell_type": "markdown",
   "id": "86e152a1",
   "metadata": {},
   "source": [
    "- The plot above shows that more female patients went through the clinical trials compared to the male patients."
   ]
  },
  {
   "cell_type": "code",
   "execution_count": 67,
   "id": "0f617f62",
   "metadata": {},
   "outputs": [
    {
     "data": {
      "image/png": "[encoded data removed]",
      "text/plain": [
       "<Figure size 1800x1200 with 1 Axes>"
      ]
     },
     "metadata": {},
     "output_type": "display_data"
    }
   ],
   "source": [
    "# Checking the age distribution\n",
    "plt.figure(dpi = 120);\n",
    "merged_data[\"age\"].hist(figsize = (15, 10));\n",
    "plt.show();"
   ]
  },
  {
   "cell_type": "markdown",
   "id": "412debce",
   "metadata": {},
   "source": [
    "- The plot above shows the age distribution of the patients that went through the clinical trials."
   ]
  },
  {
   "cell_type": "code",
   "execution_count": 74,
   "id": "5f041d9b",
   "metadata": {},
   "outputs": [
    {
     "name": "stderr",
     "output_type": "stream",
     "text": [
      "C:\\Users\\SPESSE ENVIROMENT\\AppData\\Local\\Temp\\ipykernel_46920\\3020406650.py:2: FutureWarning: The default value of numeric_only in DataFrame.corr is deprecated. In a future version, it will default to False. Select only valid columns or specify the value of numeric_only to silence this warning.\n",
      "  correlation_matrix = merged_data.corr()\n"
     ]
    },
    {
     "data": {
      "image/png": "[encoded data removed]",
      "text/plain": [
       "<Figure size 800x600 with 2 Axes>"
      ]
     },
     "metadata": {},
     "output_type": "display_data"
    }
   ],
   "source": [
    "# Correlation matrix\n",
    "correlation_matrix = merged_data.corr()\n",
    "plt.figure(figsize=(8, 6))\n",
    "sns.heatmap(correlation_matrix, annot=True, cmap=\"YlGnBu\", fmt = '.2f')\n",
    "plt.title(\"Correlation Matrix\")\n",
    "plt.show()"
   ]
  },
  {
   "cell_type": "code",
   "execution_count": 69,
   "id": "88ed4ba8",
   "metadata": {},
   "outputs": [
    {
     "data": {
      "image/png": "[encoded data removed]",
      "text/plain": [
       "<Figure size 640x480 with 1 Axes>"
      ]
     },
     "metadata": {},
     "output_type": "display_data"
    }
   ],
   "source": [
    "import matplotlib.pyplot as plt\n",
    "\n",
    "# Sample data\n",
    "gender = merged_data[\"sex\"]\n",
    "response = merged_data[\"RESPONSE\"]\n",
    "trt_grp = merged_data[\"trt_grp\"]\n",
    "\n",
    "# Count the occurrences of each combination of categories\n",
    "data = {}\n",
    "for g, r, t in zip(gender, response, trt_grp):\n",
    "    if g not in data:\n",
    "        data[g] = {}\n",
    "    if r not in data[g]:\n",
    "        data[g][r] = {}\n",
    "    if t not in data[g][r]:\n",
    "        data[g][r][t] = 0\n",
    "    data[g][r][t] += 1\n",
    "\n",
    "# Extract categories and counts\n",
    "categories = list(data.keys())\n",
    "response_categories = list(set(response))\n",
    "trt_grp_categories = list(set(trt_grp))\n",
    "counts = [[[data[g].get(r, {}).get(t, 0) for t in trt_grp_categories] for r in response_categories] for g in categories]\n",
    "\n",
    "# Plotting\n",
    "x = range(len(categories))\n",
    "width = 0.2\n",
    "\n",
    "fig, ax = plt.subplots()\n",
    "rects = []\n",
    "for i in range(len(response_categories)):\n",
    "    for j in range(len(trt_grp_categories)):\n",
    "        rect = ax.bar([xval + (i * len(trt_grp_categories) + j) * width for xval in x], [count[i][j] for count in counts], width, label=response_categories[i] + ' - ' + trt_grp_categories[j])\n",
    "        rects.append(rect)\n",
    "\n",
    "# Set x-axis labels and ticks\n",
    "ax.set_xticks([xval + ((len(response_categories) * len(trt_grp_categories) - 1) / 2) * width for xval in x])\n",
    "ax.set_xticklabels(categories)\n",
    "\n",
    "# Set y-axis label\n",
    "ax.set_ylabel('Count')\n",
    "\n",
    "# Set chart title\n",
    "ax.set_title('Response by Gender and Treatment Group')\n",
    "\n",
    "# Set legend\n",
    "ax.legend(rects, [response + ' - ' + trt_grp for response in response_categories for trt_grp in trt_grp_categories])\n",
    "\n",
    "# Display the chart\n",
    "plt.show()"
   ]
  },
  {
   "cell_type": "markdown",
   "id": "6c50d9bb",
   "metadata": {},
   "source": [
    "- The plot above suggests that the female patients responded more to the control treatment than the male patients while the male patients responded more to the drug treatment than the female patients."
   ]
  },
  {
   "cell_type": "markdown",
   "id": "2224eb33",
   "metadata": {},
   "source": [
    "## Logistic Regression"
   ]
  },
  {
   "cell_type": "markdown",
   "id": "9ed6c90b",
   "metadata": {},
   "source": [
    "### Splitting the dataset"
   ]
  },
  {
   "cell_type": "code",
   "execution_count": 76,
   "id": "7b39a38f",
   "metadata": {},
   "outputs": [
    {
     "data": {
      "text/plain": [
       "Index(['patient_id', 'age', 'sex', 'weight', 'height', 'trt_grp', 'RESPONSE',\n",
       "       'protein_concentration', 'bmi'],\n",
       "      dtype='object')"
      ]
     },
     "execution_count": 76,
     "metadata": {},
     "output_type": "execute_result"
    }
   ],
   "source": [
    "merged_data.columns"
   ]
  },
  {
   "cell_type": "code",
   "execution_count": 80,
   "id": "b1946c9a",
   "metadata": {},
   "outputs": [
    {
     "name": "stdout",
     "output_type": "stream",
     "text": [
      "Accuracy: 0.7987012987012987\n"
     ]
    }
   ],
   "source": [
    "# Select the relevant features for logistic regression\n",
    "features = ['age', 'sex', 'weight', 'height', 'trt_grp', 'protein_concentration', 'bmi']\n",
    "target = 'RESPONSE'\n",
    "X = merged_data[features]\n",
    "y = merged_data[target]\n",
    "\n",
    "# Convert categorical variables to numerical using one-hot encoding\n",
    "X = pd.get_dummies(X, drop_first=True)\n",
    "\n",
    "# Split the data into training and testing sets\n",
    "X_train, X_test, y_train, y_test = train_test_split(X, y, test_size=0.2, random_state=42)\n",
    "\n",
    "# Scale the numerical features\n",
    "scaler = StandardScaler()\n",
    "numerical_features = ['age', 'weight', 'height', 'protein_concentration', 'bmi']\n",
    "X_train[numerical_features] = scaler.fit_transform(X_train[numerical_features])\n",
    "X_test[numerical_features] = scaler.transform(X_test[numerical_features])\n",
    "\n",
    "# Train the logistic regression model\n",
    "model = LogisticRegression()\n",
    "model.fit(X_train, y_train)\n",
    "\n",
    "# Predict on the testing set\n",
    "y_pred = model.predict(X_test)\n",
    "\n",
    "# Evaluate the model\n",
    "accuracy = accuracy_score(y_test, y_pred)\n",
    "print('Accuracy:', accuracy)\n"
   ]
  },
  {
   "cell_type": "markdown",
   "id": "159a43cb",
   "metadata": {},
   "source": [
    "## Random Forest"
   ]
  },
  {
   "cell_type": "code",
   "execution_count": 81,
   "id": "672da7c5",
   "metadata": {},
   "outputs": [
    {
     "data": {
      "application/javascript": [
       "\n",
       "        if (window._pyforest_update_imports_cell) { window._pyforest_update_imports_cell('from sklearn.ensemble import RandomForestClassifier'); }\n",
       "    "
      ],
      "text/plain": [
       "<IPython.core.display.Javascript object>"
      ]
     },
     "metadata": {},
     "output_type": "display_data"
    },
    {
     "name": "stdout",
     "output_type": "stream",
     "text": [
      "Accuracy: 0.7662337662337663\n"
     ]
    }
   ],
   "source": [
    "# Train the Random Forest classifier\n",
    "model = RandomForestClassifier()\n",
    "model.fit(X_train, y_train)\n",
    "\n",
    "# Predict on the testing set\n",
    "y_pred = model.predict(X_test)\n",
    "\n",
    "# Evaluate the model\n",
    "accuracy = accuracy_score(y_test, y_pred)\n",
    "print('Accuracy:', accuracy)"
   ]
  }
 ],
 "metadata": {
  "kernelspec": {
   "display_name": "Python 3 (ipykernel)",
   "language": "python",
   "name": "python3"
  },
  "language_info": {
   "codemirror_mode": {
    "name": "ipython",
    "version": 3
   },
   "file_extension": ".py",
   "mimetype": "text/x-python",
   "name": "python",
   "nbconvert_exporter": "python",
   "pygments_lexer": "ipython3",
   "version": "3.11.1"
  }
 },
 "nbformat": 4,
 "nbformat_minor": 5
}
